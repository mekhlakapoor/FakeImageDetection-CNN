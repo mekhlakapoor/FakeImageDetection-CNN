{
  "nbformat": 4,
  "nbformat_minor": 0,
  "metadata": {
    "colab": {
      "name": "CNN.ipynb",
      "provenance": [],
      "include_colab_link": true
    },
    "kernelspec": {
      "name": "python3",
      "display_name": "Python 3"
    }
  },
  "cells": [
    {
      "cell_type": "markdown",
      "metadata": {
        "id": "view-in-github",
        "colab_type": "text"
      },
      "source": [
        "<a href=\"https://colab.research.google.com/github/mekhlakapoor/mekhlakapoor/blob/master/CNN.ipynb\" target=\"_parent\"><img src=\"https://colab.research.google.com/assets/colab-badge.svg\" alt=\"Open In Colab\"/></a>"
      ]
    },
    {
      "cell_type": "code",
      "metadata": {
        "id": "pLWafjO4XyiG",
        "colab": {
          "base_uri": "https://localhost:8080/",
          "height": 122
        },
        "outputId": "63a6c78b-1eda-40eb-d291-6a736e1c5108"
      },
      "source": [
        "from google.colab import drive\n",
        "drive.mount('/content/gdrive', force_remount=True)"
      ],
      "execution_count": null,
      "outputs": [
        {
          "output_type": "stream",
          "text": [
            "Go to this URL in a browser: https://accounts.google.com/o/oauth2/auth?client_id=947318989803-6bn6qk8qdgf4n4g3pfee6491hc0brc4i.apps.googleusercontent.com&redirect_uri=urn%3aietf%3awg%3aoauth%3a2.0%3aoob&response_type=code&scope=email%20https%3a%2f%2fwww.googleapis.com%2fauth%2fdocs.test%20https%3a%2f%2fwww.googleapis.com%2fauth%2fdrive%20https%3a%2f%2fwww.googleapis.com%2fauth%2fdrive.photos.readonly%20https%3a%2f%2fwww.googleapis.com%2fauth%2fpeopleapi.readonly\n",
            "\n",
            "Enter your authorization code:\n",
            "··········\n",
            "Mounted at /content/gdrive\n"
          ],
          "name": "stdout"
        }
      ]
    },
    {
      "cell_type": "code",
      "metadata": {
        "id": "EmRD0NxkYdVY",
        "colab": {
          "base_uri": "https://localhost:8080/",
          "height": 119
        },
        "outputId": "7543891e-0d63-456a-9a54-0dc9db2740e0"
      },
      "source": [
        "import os, shutil\n",
        "#path to the directory where the original dataset was uncompressed\n",
        "original_dataset_dir = '/content/gdrive/My Drive/Intelligence & Analytics/Colab Notebooks/dogs-vs-cats/train/'\n",
        "\n",
        "#directory where we'll store the smaller dataset\n",
        "base_dir = '/content/gdrive/My Drive/Intelligence & Analytics/Colab Notebooks/_41'\n",
        "os.mkdir(base_dir)\n",
        "\n",
        "#directories for the training, validation, and test splits\n",
        "train_dir = os.path.join(base_dir, 'train')\n",
        "os.mkdir(train_dir)\n",
        "validation_dir = os.path.join(base_dir, 'validation')\n",
        "os.mkdir(validation_dir)\n",
        "test_dir = os.path.join(base_dir, 'test')\n",
        "os.mkdir(test_dir)\n",
        "\n",
        "train_fake_dir = os.path.join(train_dir, 'fake')\n",
        "os.mkdir(train_fake_dir)\n",
        "train_original_dir = os.path.join(train_dir, 'original')\n",
        "os.mkdir(train_original_dir)\n",
        "\n",
        "validation_fake_dir = os.path.join(validation_dir, 'fake')\n",
        "os.mkdir(validation_fake_dir)\n",
        "validation_original_dir = os.path.join(validation_dir, 'original')\n",
        "os.mkdir(validation_original_dir)\n",
        "\n",
        "test_fake_dir = os.path.join(test_dir, 'fake')\n",
        "os.mkdir(test_fake_dir)\n",
        "test_original_dir = os.path.join(test_dir, 'original')\n",
        "os.mkdir(test_original_dir)\n",
        "\n",
        "# cats train: fake and original \n",
        "fnames = ['cat.{}.jpg'.format(i) for i in range(0,500)]\n",
        "for fname in fnames: \n",
        "  src = os.path.join(original_dataset_dir, fname)\n",
        "  dst = os.path.join(train_fake_dir, fname)\n",
        "  shutil.copyfile(src,dst)\n",
        "fnames = ['cat.{}.jpg'.format(i) for i in range(500,1000)]\n",
        "for fname in fnames: \n",
        "  src = os.path.join(original_dataset_dir, fname)\n",
        "  dst = os.path.join(train_original_dir, fname)\n",
        "  shutil.copyfile(src,dst)\n",
        "\n",
        "#cats validation: fake and original\n",
        "fnames = ['cat.{}.jpg'.format(i) for i in range(1000,1250)]\n",
        "for fname in fnames: \n",
        "  src = os.path.join(original_dataset_dir, fname)\n",
        "  dst = os.path.join(validation_fake_dir, fname)\n",
        "  shutil.copyfile(src,dst)\n",
        "fnames = ['cat.{}.jpg'.format(i) for i in range(1250,1500)]\n",
        "for fname in fnames: \n",
        "  src = os.path.join(original_dataset_dir, fname)\n",
        "  dst = os.path.join(validation_original_dir, fname)\n",
        "  shutil.copyfile(src,dst)\n",
        "\n",
        "#cats test: fake and original \n",
        "fnames = ['cat.{}.jpg'.format(i) for i in range(1000,1250)]\n",
        "for fname in fnames: \n",
        "  src = os.path.join(original_dataset_dir, fname)\n",
        "  dst = os.path.join(test_fake_dir, fname)\n",
        "  shutil.copyfile(src,dst)\n",
        "fnames = ['cat.{}.jpg'.format(i) for i in range(1250,1500)]\n",
        "for fname in fnames: \n",
        "  src = os.path.join(original_dataset_dir, fname)\n",
        "  dst = os.path.join(test_original_dir, fname)\n",
        "  shutil.copyfile(src,dst)\n",
        "\n",
        "#dogs train: fake and original \n",
        "fnames = ['dog.{}.jpg'.format(i) for i in range(0,500)]\n",
        "for fname in fnames: \n",
        "  src = os.path.join(original_dataset_dir, fname)\n",
        "  dst = os.path.join(train_fake_dir, fname)\n",
        "  shutil.copyfile(src,dst)\n",
        "fnames = ['dog.{}.jpg'.format(i) for i in range(500,1000)]\n",
        "for fname in fnames: \n",
        "  src = os.path.join(original_dataset_dir, fname)\n",
        "  dst = os.path.join(train_original_dir, fname)\n",
        "  shutil.copyfile(src,dst)\n",
        "\n",
        "#dogs validation: fake and original\n",
        "fnames = ['dog.{}.jpg'.format(i) for i in range(1000,1250)]\n",
        "for fname in fnames: \n",
        "  src = os.path.join(original_dataset_dir, fname)\n",
        "  dst = os.path.join(validation_fake_dir, fname)\n",
        "  shutil.copyfile(src,dst)\n",
        "fnames = ['dog.{}.jpg'.format(i) for i in range(1250,1500)]\n",
        "for fname in fnames: \n",
        "  src = os.path.join(original_dataset_dir, fname)\n",
        "  dst = os.path.join(validation_original_dir, fname)\n",
        "  shutil.copyfile(src,dst)\n",
        "\n",
        "#dogs test: fake and original\n",
        "fnames = ['dog.{}.jpg'.format(i) for i in range(1000,1250)]\n",
        "for fname in fnames: \n",
        "  src = os.path.join(original_dataset_dir, fname)\n",
        "  dst = os.path.join(test_fake_dir, fname)\n",
        "  shutil.copyfile(src,dst)\n",
        "fnames = ['dog.{}.jpg'.format(i) for i in range(1250,1500)]\n",
        "for fname in fnames: \n",
        "  src = os.path.join(original_dataset_dir, fname)\n",
        "  dst = os.path.join(test_original_dir, fname)\n",
        "  shutil.copyfile(src,dst)\n",
        "\n",
        "print('total training fake images:', len(os.listdir(train_fake_dir)))\n",
        "print('total training original images:', len(os.listdir(train_original_dir)))\n",
        "print('total validation fake images:', len(os.listdir(validation_fake_dir)))\n",
        "print('total validation original images:', len(os.listdir(validation_original_dir)))\n",
        "print('total test fake images:', len(os.listdir(test_fake_dir)))\n",
        "print('total test original images:', len(os.listdir(test_original_dir)))"
      ],
      "execution_count": null,
      "outputs": [
        {
          "output_type": "stream",
          "text": [
            "total training fake images: 1000\n",
            "total training original images: 1000\n",
            "total validation fake images: 500\n",
            "total validation original images: 500\n",
            "total test fake images: 500\n",
            "total test original images: 500\n"
          ],
          "name": "stdout"
        }
      ]
    },
    {
      "cell_type": "code",
      "metadata": {
        "id": "JGODOCv8X2V5"
      },
      "source": [
        "#from google.colab import drive\n",
        "from PIL import Image, ImageDraw, ImageFilter\n",
        "\n",
        "#drive.mount('/content/gdrive')\n",
        "path='/content/gdrive/My Drive/Intelligence & Analytics/Colab Notebooks/_41/train/fake/'\n",
        "#save_dir = '/content/gdrive/My Drive/Intelligence & Analytics/Colab Notebooks/_6/train/fake/'\n",
        "#img = Image.open(path + \"dog.jpeg\")\n",
        "\n",
        "for i in range(0,500): \n",
        "  img = Image.open(path + 'cat.{}.jpg'.format(i))\n",
        "  pathWidth=int(0.5*i)\n",
        "  patchWidth = int(0.5*i)\n",
        "  patchHeight = int(0.5*i)\n",
        "  patch = Image.new(\"L\", (patchWidth, patchHeight), 0)\n",
        "  draw = ImageDraw.Draw(patch)\n",
        "  draw.rectangle((0,0,patchWidth,patchHeight), fill=255)\n",
        "  topMargin = 20\n",
        "  LeftMargin = 20\n",
        "  combined = img.copy()\n",
        "  combined.paste(patch, (topMargin, LeftMargin))\n",
        "  combined.save(path + 'cat.{}.jpg'.format(i))\n",
        "\n",
        "for i in range(0,500): \n",
        "  img = Image.open(path + 'dog.{}.jpg'.format(i))\n",
        "  pathWidth=int(0.5*i)\n",
        "  patchWidth = int(0.5*i)\n",
        "  patchHeight = int(0.5*i)\n",
        "  patch = Image.new(\"L\", (patchWidth, patchHeight), 0)\n",
        "  draw = ImageDraw.Draw(patch)\n",
        "  draw.rectangle((0,0,patchWidth,patchHeight), fill=255)\n",
        "  topMargin = 20\n",
        "  LeftMargin = 20\n",
        "  combined = img.copy()\n",
        "  combined.paste(patch, (topMargin, LeftMargin))\n",
        "  combined.save(path + 'dog{}.jpg'.format(i))"
      ],
      "execution_count": null,
      "outputs": []
    },
    {
      "cell_type": "code",
      "metadata": {
        "id": "-z0wg-pCvSNi"
      },
      "source": [
        "#from google.colab import drive\n",
        "from PIL import Image, ImageDraw, ImageFilter\n",
        "\n",
        "#drive.mount('/content/gdrive')\n",
        "path='/content/gdrive/My Drive/Intelligence & Analytics/Colab Notebooks/_41/validation/fake/'\n",
        "#save_dir = '/content/gdrive/My Drive/Intelligence & Analytics/Colab Notebooks/_6/train/fake/'\n",
        "#img = Image.open(path + \"dog.jpeg\")\n",
        "\n",
        "for i in range(1000,1249): \n",
        "  img = Image.open(path + 'cat.{}.jpg'.format(i))\n",
        "  pathWidth=int(0.5*(i-750))\n",
        "  patchWidth = int(0.5*(i-750))\n",
        "  patchHeight = int(0.5*(i-750))\n",
        "  patch = Image.new(\"L\", (patchWidth, patchHeight), 0)\n",
        "  draw = ImageDraw.Draw(patch)\n",
        "  draw.rectangle((0,0,patchWidth,patchHeight), fill=255)\n",
        "  topMargin = 20\n",
        "  LeftMargin = 20\n",
        "  combined = img.copy()\n",
        "  combined.paste(patch, (topMargin, LeftMargin))\n",
        "  combined.save(path + 'cat.{}.jpg'.format(i))\n",
        "\n",
        "for i in range(1000,1249): \n",
        "  img = Image.open(path + 'dog.{}.jpg'.format(i))\n",
        "  pathWidth=int(0.5*(i-750))\n",
        "  patchWidth = int(0.5*(i-750))\n",
        "  patchHeight = int(0.5*(i-750))\n",
        "  patch = Image.new(\"L\", (patchWidth, patchHeight), 0)\n",
        "  draw = ImageDraw.Draw(patch)\n",
        "  draw.rectangle((0,0,patchWidth,patchHeight), fill=255)\n",
        "  topMargin = 20\n",
        "  LeftMargin = 20\n",
        "  combined = img.copy()\n",
        "  combined.paste(patch, (topMargin, LeftMargin))\n",
        "  combined.save(path + 'dog{}.jpg'.format(i))"
      ],
      "execution_count": null,
      "outputs": []
    },
    {
      "cell_type": "code",
      "metadata": {
        "id": "5229hqpejHt2"
      },
      "source": [
        "#from google.colab import drive\n",
        "from PIL import Image, ImageDraw, ImageFilter\n",
        "\n",
        "#drive.mount('/content/gdrive')\n",
        "path='/content/gdrive/My Drive/Intelligence & Analytics/Colab Notebooks/_41/test/fake/'\n",
        "#save_dir = '/content/gdrive/My Drive/Intelligence & Analytics/Colab Notebooks/_6/train/fake/'\n",
        "#img = Image.open(path + \"dog.jpeg\")\n",
        "\n",
        "for i in range(1000,1249): \n",
        "  img = Image.open(path + 'cat.{}.jpg'.format(i))\n",
        "  pathWidth=int(0.5*(i-750)) #training: 1.2*i where i 0-500 \n",
        "  patchWidth = int(0.5*(i-750))\n",
        "  patchHeight = int(0.5*(i-750)) #change subtraction to find best range of box size (change the 1000)\n",
        "  patch = Image.new(\"L\", (patchWidth, patchHeight), 0)\n",
        "  draw = ImageDraw.Draw(patch)\n",
        "  draw.rectangle((0,0,patchWidth,patchHeight), fill=255)\n",
        "  topMargin = 20\n",
        "  LeftMargin = 20\n",
        "  combined = img.copy()\n",
        "  combined.paste(patch, (topMargin, LeftMargin))\n",
        "  combined.save(path + 'cat.{}.jpg'.format(i))\n",
        "\n",
        "for i in range(1000,1249): \n",
        "  img = Image.open(path + 'dog.{}.jpg'.format(i))\n",
        "  pathWidth=int(0.5*(i-750)) \n",
        "  patchWidth = int(0.5*(i-750))\n",
        "  patchHeight = int(0.5*(i-750)) #make 1000 to 750 (0.1) \n",
        "  patch = Image.new(\"L\", (patchWidth, patchHeight), 0)\n",
        "  draw = ImageDraw.Draw(patch)\n",
        "  draw.rectangle((0,0,patchWidth,patchHeight), fill=255)\n",
        "  topMargin = 20\n",
        "  LeftMargin = 20\n",
        "  combined = img.copy()\n",
        "  combined.paste(patch, (topMargin, LeftMargin))\n",
        "  combined.save(path + 'dog{}.jpg'.format(i))"
      ],
      "execution_count": null,
      "outputs": []
    },
    {
      "cell_type": "code",
      "metadata": {
        "id": "kN6RaCOlX9rM",
        "colab": {
          "base_uri": "https://localhost:8080/",
          "height": 527
        },
        "outputId": "102f3223-2f37-4508-fcbe-edd281cdd874"
      },
      "source": [
        "from keras import layers\n",
        "from keras import models\n",
        "\n",
        "model = models.Sequential()\n",
        "model.add(layers.Conv2D (32, (3,3), activation='relu',\n",
        "                         input_shape = (150,150,3)))\n",
        "model.add(layers.MaxPooling2D((2,2)))\n",
        "model.add(layers.Conv2D(64,(3,3),activation='relu'))\n",
        "model.add(layers.MaxPooling2D((2,2)))\n",
        "model.add(layers.Conv2D(128,(3,3),activation='relu'))\n",
        "model.add(layers.MaxPooling2D((2,2)))\n",
        "model.add(layers.Conv2D(128,(3,3),activation='relu'))\n",
        "model.add(layers.MaxPooling2D((2,2)))\n",
        "model.add(layers.Flatten())\n",
        "model.add(layers.Dense(512, activation='relu'))\n",
        "model.add(layers.Dense(1, activation='sigmoid'))\n",
        "\n",
        "model.summary()"
      ],
      "execution_count": null,
      "outputs": [
        {
          "output_type": "stream",
          "text": [
            "Model: \"sequential_1\"\n",
            "_________________________________________________________________\n",
            "Layer (type)                 Output Shape              Param #   \n",
            "=================================================================\n",
            "conv2d_4 (Conv2D)            (None, 148, 148, 32)      896       \n",
            "_________________________________________________________________\n",
            "max_pooling2d_4 (MaxPooling2 (None, 74, 74, 32)        0         \n",
            "_________________________________________________________________\n",
            "conv2d_5 (Conv2D)            (None, 72, 72, 64)        18496     \n",
            "_________________________________________________________________\n",
            "max_pooling2d_5 (MaxPooling2 (None, 36, 36, 64)        0         \n",
            "_________________________________________________________________\n",
            "conv2d_6 (Conv2D)            (None, 34, 34, 128)       73856     \n",
            "_________________________________________________________________\n",
            "max_pooling2d_6 (MaxPooling2 (None, 17, 17, 128)       0         \n",
            "_________________________________________________________________\n",
            "conv2d_7 (Conv2D)            (None, 15, 15, 128)       147584    \n",
            "_________________________________________________________________\n",
            "max_pooling2d_7 (MaxPooling2 (None, 7, 7, 128)         0         \n",
            "_________________________________________________________________\n",
            "flatten_1 (Flatten)          (None, 6272)              0         \n",
            "_________________________________________________________________\n",
            "dense_2 (Dense)              (None, 512)               3211776   \n",
            "_________________________________________________________________\n",
            "dense_3 (Dense)              (None, 1)                 513       \n",
            "=================================================================\n",
            "Total params: 3,453,121\n",
            "Trainable params: 3,453,121\n",
            "Non-trainable params: 0\n",
            "_________________________________________________________________\n"
          ],
          "name": "stdout"
        }
      ]
    },
    {
      "cell_type": "code",
      "metadata": {
        "id": "9M1PF04WhIqk"
      },
      "source": [
        "from keras import optimizers\n",
        "model.compile(loss = 'binary_crossentropy', optimizer=optimizers.RMSprop() , metrics=['acc'])"
      ],
      "execution_count": null,
      "outputs": []
    },
    {
      "cell_type": "code",
      "metadata": {
        "id": "7VJhT4j2tDY1",
        "colab": {
          "base_uri": "https://localhost:8080/",
          "height": 51
        },
        "outputId": "dd8abfd6-3dc4-4f19-8ec8-28bd15638c9b"
      },
      "source": [
        "from keras.preprocessing.image import ImageDataGenerator\n",
        "#rescales all images by 1/255\n",
        "train_datagen = ImageDataGenerator(rescale=1./255)\n",
        "test_datagen = ImageDataGenerator(rescale=1./255)\n",
        "\n",
        "train_generator = train_datagen.flow_from_directory(\n",
        "    train_dir, #target directory\n",
        "    target_size = (150,150), #resizes all images to 150x150\n",
        "    batch_size = 20,\n",
        "    class_mode = 'binary') #need binary labels bc we use binary_crossentropy\n",
        "validation_generator = test_datagen.flow_from_directory(\n",
        "    validation_dir,\n",
        "    target_size = (150,150),\n",
        "    batch_size = 20,\n",
        "    class_mode = 'binary')"
      ],
      "execution_count": null,
      "outputs": [
        {
          "output_type": "stream",
          "text": [
            "Found 2500 images belonging to 2 classes.\n",
            "Found 1249 images belonging to 2 classes.\n"
          ],
          "name": "stdout"
        }
      ]
    },
    {
      "cell_type": "code",
      "metadata": {
        "id": "NHb1CBlHQ-VP",
        "colab": {
          "base_uri": "https://localhost:8080/",
          "height": 51
        },
        "outputId": "4f56dd87-7304-4d4a-c6da-3866c8e76f2e"
      },
      "source": [
        "for data_batch, labels_batch in train_generator:\n",
        "  print('data batch shape:', data_batch.shape)\n",
        "  print('labels batch shape:', labels_batch.shape)\n",
        "  break"
      ],
      "execution_count": null,
      "outputs": [
        {
          "output_type": "stream",
          "text": [
            "data batch shape: (20, 150, 150, 3)\n",
            "labels batch shape: (20,)\n"
          ],
          "name": "stdout"
        }
      ]
    },
    {
      "cell_type": "code",
      "metadata": {
        "id": "lDYSww-ERKf8",
        "colab": {
          "base_uri": "https://localhost:8080/",
          "height": 289
        },
        "outputId": "52a8ac38-0140-42e4-ce7f-0713cf9f12c8"
      },
      "source": [
        "history = model.fit_generator(\n",
        "    train_generator,\n",
        "    steps_per_epoch = 100,\n",
        "    epochs = 8, \n",
        "    validation_data = validation_generator,\n",
        "    validation_steps = 50)"
      ],
      "execution_count": null,
      "outputs": [
        {
          "output_type": "stream",
          "text": [
            "Epoch 1/8\n",
            "100/100 [==============================] - 114s 1s/step - loss: 0.7556 - acc: 0.6320 - val_loss: 0.4241 - val_acc: 0.7740\n",
            "Epoch 2/8\n",
            "100/100 [==============================] - 113s 1s/step - loss: 0.4897 - acc: 0.7410 - val_loss: 0.4366 - val_acc: 0.7560\n",
            "Epoch 3/8\n",
            "100/100 [==============================] - 110s 1s/step - loss: 0.4436 - acc: 0.7700 - val_loss: 0.5968 - val_acc: 0.7000\n",
            "Epoch 4/8\n",
            "100/100 [==============================] - 110s 1s/step - loss: 0.4220 - acc: 0.7845 - val_loss: 0.4441 - val_acc: 0.7970\n",
            "Epoch 5/8\n",
            "100/100 [==============================] - 110s 1s/step - loss: 0.3844 - acc: 0.8100 - val_loss: 0.4372 - val_acc: 0.7960\n",
            "Epoch 6/8\n",
            "100/100 [==============================] - 110s 1s/step - loss: 0.3554 - acc: 0.8260 - val_loss: 0.5465 - val_acc: 0.7350\n",
            "Epoch 7/8\n",
            "100/100 [==============================] - 110s 1s/step - loss: 0.3462 - acc: 0.8360 - val_loss: 0.4658 - val_acc: 0.7480\n",
            "Epoch 8/8\n",
            "100/100 [==============================] - 111s 1s/step - loss: 0.2933 - acc: 0.8660 - val_loss: 0.5352 - val_acc: 0.7340\n"
          ],
          "name": "stdout"
        }
      ]
    },
    {
      "cell_type": "code",
      "metadata": {
        "id": "K1G6_ZUJRNpH"
      },
      "source": [
        "model.save('cats_and_dogs_small_1.h5')"
      ],
      "execution_count": null,
      "outputs": []
    },
    {
      "cell_type": "code",
      "metadata": {
        "id": "RyCEePSXzBt4",
        "colab": {
          "base_uri": "https://localhost:8080/",
          "height": 545
        },
        "outputId": "6b4f03ff-879f-4b80-caac-c78217755989"
      },
      "source": [
        "import matplotlib.pyplot as plt\n",
        "\n",
        "acc = history.history['acc']\n",
        "val_acc = history.history['val_acc']\n",
        "loss = history.history['loss']\n",
        "val_loss = history.history['val_loss']\n",
        "\n",
        "epochs = range(1, len(acc) + 1)\n",
        "\n",
        "plt.plot(epochs, acc, 'bo', label='Training acc')\n",
        "plt.plot(epochs, val_acc, 'b', label='Validation acc')\n",
        "plt.title('Training and validation accuracy')\n",
        "plt.legend()\n",
        "\n",
        "plt.figure()\n",
        "\n",
        "plt.plot(epochs, loss, 'bo', label='Training loss')\n",
        "plt.plot(epochs, val_loss, 'b', label='Validation loss')\n",
        "plt.title('Training and validation loss')\n",
        "plt.legend()\n",
        "\n",
        "plt.show()"
      ],
      "execution_count": null,
      "outputs": [
        {
          "output_type": "display_data",
          "data": {
            "image/png": "[encoded data removed]",
            "text/plain": [
              "<Figure size 432x288 with 1 Axes>"
            ]
          },
          "metadata": {
            "tags": [],
            "needs_background": "light"
          }
        },
        {
          "output_type": "display_data",
          "data": {
            "image/png": "[encoded data removed]",
            "text/plain": [
              "<Figure size 432x288 with 1 Axes>"
            ]
          },
          "metadata": {
            "tags": [],
            "needs_background": "light"
          }
        }
      ]
    },
    {
      "cell_type": "markdown",
      "metadata": {
        "id": "dD7vBmCqIebZ"
      },
      "source": [
        "Results Analysis: "
      ]
    },
    {
      "cell_type": "code",
      "metadata": {
        "id": "ull0pebj3jTE"
      },
      "source": [
        "# read the values in and store them in an array\n",
        "test_images = [] # array for test images \n",
        "\n",
        "for i in range(1000,1249): \n",
        "  path='/content/gdrive/My Drive/Intelligence & Analytics/Colab Notebooks/_22/test/fake/'\n",
        "  test_images.append(Image.open(path + 'cat.{}.jpg'.format(i))) # cat fake images 0 to 249\n",
        "  test_images.append(Image.open(path + 'dog.{}.jpg'.format(i))) #dog fake images 250 to 499\n",
        "for i in range(1250,1499):\n",
        "  path='/content/gdrive/My Drive/Intelligence & Analytics/Colab Notebooks/_22/test/original/'\n",
        "  test_images.append(Image.open(path + 'cat.{}.jpg'.format(i))) # cat original images 500 to 749\n",
        "  test_images.append(Image.open(path + 'dog.{}.jpg'.format(i))) #dog original images 750 to 1000\n",
        "\n"
      ],
      "execution_count": null,
      "outputs": []
    },
    {
      "cell_type": "code",
      "metadata": {
        "id": "wW5poiOcigk3",
        "colab": {
          "base_uri": "https://localhost:8080/",
          "height": 232
        },
        "outputId": "8da19532-28a2-498d-e5d0-257e1898a2e3"
      },
      "source": [
        "import numpy as np\n",
        "model.evaluate(test_images, test_labels) #what are test_labels 1 = original and 0 = fake \n",
        "guesses=model.predict(test_images) #what the model has guessed\n",
        "test_labels_guess=np.argmax(guesses, axis=1) #y values\n",
        "errors=np.argwhere(test_labels != test_labels_guess) #incorrect ones, actual vs prediction\n",
        "#argwhere --> x values \n",
        "print(np.transpose(errors))\n",
        "\n",
        "f, axarr = plt.subplots(5, 5,figsize=(15,15))\n",
        "plt.subplots_adjust(wspace=1,hspace=1)\n",
        "for image_index in range(25):\n",
        "  f.add_subplot(5, 5, image_index + 1)\n",
        "  error_image_index = errors[image_index][0]\n",
        "  axarr[image_index // 5, image_index % 5].imshow(test_images[error_image_index])\n",
        "  axarr[image_index // 5, image_index % 5].axis('off')\n",
        "  axarr[image_index // 5, image_index % 5].set_title(\"A:{},G:{}\".format(test_labels[error_image_index], test_labels_guess[error_image_index]))"
      ],
      "execution_count": null,
      "outputs": [
        {
          "output_type": "error",
          "ename": "NameError",
          "evalue": "ignored",
          "traceback": [
            "\u001b[0;31m---------------------------------------------------------------------------\u001b[0m",
            "\u001b[0;31mNameError\u001b[0m                                 Traceback (most recent call last)",
            "\u001b[0;32m<ipython-input-29-9804c652830b>\u001b[0m in \u001b[0;36m<module>\u001b[0;34m()\u001b[0m\n\u001b[1;32m      1\u001b[0m \u001b[0;32mimport\u001b[0m \u001b[0mnumpy\u001b[0m \u001b[0;32mas\u001b[0m \u001b[0mnp\u001b[0m\u001b[0;34m\u001b[0m\u001b[0;34m\u001b[0m\u001b[0m\n\u001b[0;32m----> 2\u001b[0;31m \u001b[0mmodel\u001b[0m\u001b[0;34m.\u001b[0m\u001b[0mevaluate\u001b[0m\u001b[0;34m(\u001b[0m\u001b[0mtest_images\u001b[0m\u001b[0;34m,\u001b[0m \u001b[0mtest_labels\u001b[0m\u001b[0;34m)\u001b[0m\u001b[0;34m\u001b[0m\u001b[0;34m\u001b[0m\u001b[0m\n\u001b[0m\u001b[1;32m      3\u001b[0m \u001b[0mguesses\u001b[0m\u001b[0;34m=\u001b[0m\u001b[0mmodel\u001b[0m\u001b[0;34m.\u001b[0m\u001b[0mpredict\u001b[0m\u001b[0;34m(\u001b[0m\u001b[0mtest_images\u001b[0m\u001b[0;34m)\u001b[0m \u001b[0;31m#what the model has guessed\u001b[0m\u001b[0;34m\u001b[0m\u001b[0;34m\u001b[0m\u001b[0m\n\u001b[1;32m      4\u001b[0m \u001b[0mtest_labels_guess\u001b[0m\u001b[0;34m=\u001b[0m\u001b[0mnp\u001b[0m\u001b[0;34m.\u001b[0m\u001b[0margmax\u001b[0m\u001b[0;34m(\u001b[0m\u001b[0mguesses\u001b[0m\u001b[0;34m,\u001b[0m \u001b[0maxis\u001b[0m\u001b[0;34m=\u001b[0m\u001b[0;36m1\u001b[0m\u001b[0;34m)\u001b[0m \u001b[0;31m#y values\u001b[0m\u001b[0;34m\u001b[0m\u001b[0;34m\u001b[0m\u001b[0m\n\u001b[1;32m      5\u001b[0m \u001b[0merrors\u001b[0m\u001b[0;34m=\u001b[0m\u001b[0mnp\u001b[0m\u001b[0;34m.\u001b[0m\u001b[0margwhere\u001b[0m\u001b[0;34m(\u001b[0m\u001b[0mtest_labels\u001b[0m \u001b[0;34m!=\u001b[0m \u001b[0mtest_labels_guess\u001b[0m\u001b[0;34m)\u001b[0m \u001b[0;31m#incorrect ones, actual vs prediction\u001b[0m\u001b[0;34m\u001b[0m\u001b[0;34m\u001b[0m\u001b[0m\n",
            "\u001b[0;31mNameError\u001b[0m: name 'test_labels' is not defined"
          ]
        }
      ]
    },
    {
      "cell_type": "code",
      "metadata": {
        "id": "o9lsf4YwIdOo",
        "colab": {
          "base_uri": "https://localhost:8080/",
          "height": 283
        },
        "outputId": "354d5ee3-d6d1-483f-9474-fa343ad8b5cb"
      },
      "source": [
        "reverse_index = dict([(val, key) for (key, val) in word_index.items()])\n",
        "weights, biases = model.layers[0].get_weights()\n",
        "print('Layer 0 Analysis')\n",
        "print()\n",
        "print('top fake images')\n",
        "weights_sum = weights.sum(axis=1)\n",
        "top_indices = weights_sum.argsort()[-20:]\n",
        "for index in top_indices:\n",
        "  print(reverse_index.get(index-3, '?'), \", ind: \", index, \", Sum of W: \", weights[index].sum())\n",
        "\n",
        "print()\n",
        "print('top original images')\n",
        "top_indices = weights_sum.argsort()[:20]\n",
        "for index in top_indices:\n",
        "  print(reverse_index.get(index-3, '?'), \", ind: \", index, \", Sum of W: \", weights[index].sum())\n",
        "\n",
        "from keras import backend as K\n",
        "\n",
        "#We can see the output of all layers to get more insight about what contributes to a given output\n",
        "print('All Layers Analysis')\n",
        "inp = model.input                                           # input placeholder\n",
        "outputs = [layer.output for layer in model.layers]          # all layer outputs\n",
        "functors = [K.function([inp], [out]) for out in outputs]\n",
        "test=np.zeros((1,10000))\n",
        "test[0,4258]=1\n",
        "outs = [func([test]) for func in functors]\n",
        "print(outs) "
      ],
      "execution_count": null,
      "outputs": [
        {
          "output_type": "stream",
          "text": [
            "Layer 0 Analysis\n",
            "\n",
            "top fake images\n"
          ],
          "name": "stdout"
        },
        {
          "output_type": "error",
          "ename": "NameError",
          "evalue": "ignored",
          "traceback": [
            "\u001b[0;31m---------------------------------------------------------------------------\u001b[0m",
            "\u001b[0;31mNameError\u001b[0m                                 Traceback (most recent call last)",
            "\u001b[0;32m<ipython-input-21-ca7b9bbdea8c>\u001b[0m in \u001b[0;36m<module>\u001b[0;34m()\u001b[0m\n\u001b[1;32m      6\u001b[0m \u001b[0mtop_indices\u001b[0m \u001b[0;34m=\u001b[0m \u001b[0mweights_sum\u001b[0m\u001b[0;34m.\u001b[0m\u001b[0margsort\u001b[0m\u001b[0;34m(\u001b[0m\u001b[0;34m)\u001b[0m\u001b[0;34m[\u001b[0m\u001b[0;34m-\u001b[0m\u001b[0;36m20\u001b[0m\u001b[0;34m:\u001b[0m\u001b[0;34m]\u001b[0m\u001b[0;34m\u001b[0m\u001b[0;34m\u001b[0m\u001b[0m\n\u001b[1;32m      7\u001b[0m \u001b[0;32mfor\u001b[0m \u001b[0mindex\u001b[0m \u001b[0;32min\u001b[0m \u001b[0mtop_indices\u001b[0m\u001b[0;34m:\u001b[0m\u001b[0;34m\u001b[0m\u001b[0;34m\u001b[0m\u001b[0m\n\u001b[0;32m----> 8\u001b[0;31m   \u001b[0mprint\u001b[0m\u001b[0;34m(\u001b[0m\u001b[0mreverse_index\u001b[0m\u001b[0;34m.\u001b[0m\u001b[0mget\u001b[0m\u001b[0;34m(\u001b[0m\u001b[0mindex\u001b[0m\u001b[0;34m-\u001b[0m\u001b[0;36m3\u001b[0m\u001b[0;34m,\u001b[0m \u001b[0;34m'?'\u001b[0m\u001b[0;34m)\u001b[0m\u001b[0;34m,\u001b[0m \u001b[0;34m\", ind: \"\u001b[0m\u001b[0;34m,\u001b[0m \u001b[0mindex\u001b[0m\u001b[0;34m,\u001b[0m \u001b[0;34m\", Sum of W: \"\u001b[0m\u001b[0;34m,\u001b[0m \u001b[0mweights\u001b[0m\u001b[0;34m[\u001b[0m\u001b[0mindex\u001b[0m\u001b[0;34m]\u001b[0m\u001b[0;34m.\u001b[0m\u001b[0msum\u001b[0m\u001b[0;34m(\u001b[0m\u001b[0;34m)\u001b[0m\u001b[0;34m)\u001b[0m\u001b[0;34m\u001b[0m\u001b[0;34m\u001b[0m\u001b[0m\n\u001b[0m\u001b[1;32m      9\u001b[0m \u001b[0;34m\u001b[0m\u001b[0m\n\u001b[1;32m     10\u001b[0m \u001b[0mprint\u001b[0m\u001b[0;34m(\u001b[0m\u001b[0;34m)\u001b[0m\u001b[0;34m\u001b[0m\u001b[0;34m\u001b[0m\u001b[0m\n",
            "\u001b[0;31mNameError\u001b[0m: name 'reverse_index' is not defined"
          ]
        }
      ]
    },
    {
      "cell_type": "code",
      "metadata": {
        "id": "AMxHUvaBzHeJ"
      },
      "source": [
        "datagen = ImageDataGenerator (\n",
        "    rotation_range = 40,\n",
        "    width_shift_range = 0.2,\n",
        "    height_shift_range = 0.2, \n",
        "    shear_range = 0.2, \n",
        "    zoom_range = 0.2, \n",
        "    horizontal_flip = True, \n",
        "    fill_mode = 'nearest'\n",
        ")"
      ],
      "execution_count": null,
      "outputs": []
    },
    {
      "cell_type": "code",
      "metadata": {
        "id": "xEN2TisuzStv"
      },
      "source": [
        "from keras.preprocessing import image\n",
        "\n",
        "fnames = [os.path.join(train_cats_dir, fname) for \n",
        "          fname in os.listdir(train_cats_dir)]\n",
        "img_path = fnames[3] # chooses one image to augment \n",
        "img = image.load_img(img_path, target_size=(150,150))\n",
        "x = image.img_to_array(img) # converts it to a numpy array with shape (150, 150, 3)\n",
        "x = x.reshape((1,) + x.shape) #reshapes it to (1, 150, 150, 3)\n",
        "\n",
        "i = 0\n",
        "for batch in datagen.flow(x, batch_size=1):\n",
        "  plt.figure(i)\n",
        "  imgplot = plt.imshow(image.array_to_img(batch[0]))\n",
        "  i += 1\n",
        "  if i % 4 == 0:\n",
        "    break\n",
        "\n",
        "plt.show()"
      ],
      "execution_count": null,
      "outputs": []
    },
    {
      "cell_type": "code",
      "metadata": {
        "id": "qFoWhA4-zYnG"
      },
      "source": [
        "model = models.Sequential()\n",
        "model.add(layers.Conv2D(32, (3,3), activation='relu', \n",
        "                        input_shape = (150, 150,3)))\n",
        "model.add(layers.MaxPooling2D((2,2)))\n",
        "model.add(layers.Conv2D(64, (3,3), activation = 'relu'))\n",
        "model.add(layers.MaxPooling2D((2,2)))\n",
        "model.add(layers.Conv2D(128, (3,3), activation = 'relu'))\n",
        "model.add(layers.MaxPooling2D((2,2)))\n",
        "model.add(layers.Flatten())\n",
        "model.add(layers.Dropout(0.5))\n",
        "model.add(layers.Dense(512, activation = 'relu'))\n",
        "model.add(layers.Dense(1, activation = 'sigmoid'))\n",
        "\n",
        "model.compile(loss = 'binary_crossentropy', optimizer=optimizers.RMSprop() , metrics=['acc'])\n"
      ],
      "execution_count": null,
      "outputs": []
    },
    {
      "cell_type": "code",
      "metadata": {
        "id": "gKiDVZErzm9S",
        "colab": {
          "base_uri": "https://localhost:8080/",
          "height": 1000
        },
        "outputId": "d5c94ed2-e465-45b4-a7d3-76da05b87449"
      },
      "source": [
        "train_datagen = ImageDataGenerator (\n",
        "    rescale = 1./255,\n",
        "    rotation_range = 40, \n",
        "    width_shift_range = 0.2, \n",
        "    height_shift_range = 0.2,\n",
        "    shear_range = 0.2, \n",
        "    zoom_range = 0.2, \n",
        "    horizontal_flip = True, )\n",
        "test_datagen = ImageDataGenerator(rescale=1./255)\n",
        "train_generator = train_datagen.flow_from_directory(\n",
        "    validation_dir, \n",
        "    target_size = (150, 150), \n",
        "    batch_size = 32, \n",
        "    class_mode = 'binary')\n",
        "history = model.fit_generator(\n",
        "    train_generator, \n",
        "    steps_per_epoch = 100,\n",
        "    epochs = 100, \n",
        "    validation_data = validation_generator,\n",
        "    validation_steps = 50)"
      ],
      "execution_count": null,
      "outputs": [
        {
          "output_type": "stream",
          "text": [
            "Found 1000 images belonging to 2 classes.\n",
            "Epoch 1/100\n",
            "100/100 [==============================] - 198s 2s/step - loss: 0.8564 - acc: 0.5067 - val_loss: 0.6917 - val_acc: 0.5000\n",
            "Epoch 2/100\n",
            "100/100 [==============================] - 188s 2s/step - loss: 0.7024 - acc: 0.5035 - val_loss: 0.6727 - val_acc: 0.5200\n",
            "Epoch 3/100\n",
            "100/100 [==============================] - 188s 2s/step - loss: 0.6954 - acc: 0.5243 - val_loss: 0.6689 - val_acc: 0.5510\n",
            "Epoch 4/100\n",
            "100/100 [==============================] - 193s 2s/step - loss: 0.6945 - acc: 0.5348 - val_loss: 0.6670 - val_acc: 0.5400\n",
            "Epoch 5/100\n",
            "100/100 [==============================] - 189s 2s/step - loss: 0.6924 - acc: 0.5317 - val_loss: 0.6659 - val_acc: 0.5730\n",
            "Epoch 6/100\n",
            "100/100 [==============================] - 187s 2s/step - loss: 0.6933 - acc: 0.5345 - val_loss: 0.6952 - val_acc: 0.5660\n",
            "Epoch 7/100\n",
            "100/100 [==============================] - 191s 2s/step - loss: 0.6955 - acc: 0.5332 - val_loss: 0.7513 - val_acc: 0.5300\n",
            "Epoch 8/100\n",
            "100/100 [==============================] - 191s 2s/step - loss: 0.6897 - acc: 0.5390 - val_loss: 0.6849 - val_acc: 0.5620\n",
            "Epoch 9/100\n",
            "100/100 [==============================] - 189s 2s/step - loss: 0.6872 - acc: 0.5480 - val_loss: 0.6732 - val_acc: 0.5580\n",
            "Epoch 10/100\n",
            "100/100 [==============================] - 193s 2s/step - loss: 0.6860 - acc: 0.5396 - val_loss: 0.6616 - val_acc: 0.5530\n",
            "Epoch 11/100\n",
            "100/100 [==============================] - 190s 2s/step - loss: 0.6886 - acc: 0.5524 - val_loss: 0.7191 - val_acc: 0.5540\n",
            "Epoch 12/100\n",
            "100/100 [==============================] - 190s 2s/step - loss: 0.6863 - acc: 0.5461 - val_loss: 0.7034 - val_acc: 0.5710\n",
            "Epoch 13/100\n",
            "100/100 [==============================] - 193s 2s/step - loss: 0.6819 - acc: 0.5622 - val_loss: 0.6338 - val_acc: 0.5760\n",
            "Epoch 14/100\n",
            "100/100 [==============================] - 187s 2s/step - loss: 0.6835 - acc: 0.5454 - val_loss: 0.6486 - val_acc: 0.5640\n",
            "Epoch 15/100\n",
            "100/100 [==============================] - 190s 2s/step - loss: 0.6878 - acc: 0.5489 - val_loss: 0.6803 - val_acc: 0.5660\n",
            "Epoch 16/100\n",
            "100/100 [==============================] - 194s 2s/step - loss: 0.6805 - acc: 0.5460 - val_loss: 0.7028 - val_acc: 0.5930\n",
            "Epoch 17/100\n",
            "100/100 [==============================] - 195s 2s/step - loss: 0.6791 - acc: 0.5617 - val_loss: 0.6770 - val_acc: 0.5350\n",
            "Epoch 18/100\n",
            "100/100 [==============================] - 189s 2s/step - loss: 0.6795 - acc: 0.5596 - val_loss: 0.6520 - val_acc: 0.6040\n",
            "Epoch 19/100\n",
            "100/100 [==============================] - 191s 2s/step - loss: 0.6831 - acc: 0.5600 - val_loss: 0.5859 - val_acc: 0.5920\n",
            "Epoch 20/100\n",
            "100/100 [==============================] - 194s 2s/step - loss: 0.6793 - acc: 0.5575 - val_loss: 0.6494 - val_acc: 0.5790\n",
            "Epoch 21/100\n",
            "100/100 [==============================] - 191s 2s/step - loss: 0.6808 - acc: 0.5691 - val_loss: 0.6382 - val_acc: 0.6020\n",
            "Epoch 22/100\n",
            "100/100 [==============================] - 189s 2s/step - loss: 0.6793 - acc: 0.5683 - val_loss: 0.7174 - val_acc: 0.5970\n",
            "Epoch 23/100\n",
            "100/100 [==============================] - 193s 2s/step - loss: 0.6720 - acc: 0.5627 - val_loss: 0.6121 - val_acc: 0.5750\n",
            "Epoch 24/100\n",
            "100/100 [==============================] - 192s 2s/step - loss: 0.6708 - acc: 0.5748 - val_loss: 0.6417 - val_acc: 0.5940\n",
            "Epoch 25/100\n",
            "100/100 [==============================] - 190s 2s/step - loss: 0.6844 - acc: 0.5652 - val_loss: 0.7113 - val_acc: 0.5960\n",
            "Epoch 26/100\n",
            "100/100 [==============================] - 193s 2s/step - loss: 0.6712 - acc: 0.5595 - val_loss: 0.6440 - val_acc: 0.6070\n",
            "Epoch 27/100\n",
            "100/100 [==============================] - 189s 2s/step - loss: 0.6699 - acc: 0.5627 - val_loss: 0.6441 - val_acc: 0.5880\n",
            "Epoch 28/100\n",
            "100/100 [==============================] - 189s 2s/step - loss: 0.6698 - acc: 0.5770 - val_loss: 0.6501 - val_acc: 0.5750\n",
            "Epoch 29/100\n",
            "100/100 [==============================] - 192s 2s/step - loss: 0.6818 - acc: 0.5693 - val_loss: 0.5620 - val_acc: 0.6190\n",
            "Epoch 30/100\n",
            "100/100 [==============================] - 188s 2s/step - loss: 0.6629 - acc: 0.5777 - val_loss: 0.5831 - val_acc: 0.6230\n",
            "Epoch 31/100\n",
            "100/100 [==============================] - 189s 2s/step - loss: 0.6727 - acc: 0.5758 - val_loss: 0.7797 - val_acc: 0.6100\n",
            "Epoch 32/100\n",
            "100/100 [==============================] - 190s 2s/step - loss: 0.6650 - acc: 0.5825 - val_loss: 0.6964 - val_acc: 0.6340\n",
            "Epoch 33/100\n",
            "100/100 [==============================] - 193s 2s/step - loss: 0.6638 - acc: 0.5841 - val_loss: 0.5606 - val_acc: 0.6100\n",
            "Epoch 34/100\n",
            "100/100 [==============================] - 188s 2s/step - loss: 0.6560 - acc: 0.5764 - val_loss: 0.5342 - val_acc: 0.6010\n",
            "Epoch 35/100\n",
            "100/100 [==============================] - 190s 2s/step - loss: 0.6691 - acc: 0.5857 - val_loss: 0.5296 - val_acc: 0.6210\n",
            "Epoch 36/100\n",
            "100/100 [==============================] - 191s 2s/step - loss: 0.6649 - acc: 0.5886 - val_loss: 0.6279 - val_acc: 0.6350\n",
            "Epoch 37/100\n",
            "100/100 [==============================] - 190s 2s/step - loss: 0.6644 - acc: 0.5949 - val_loss: 0.6099 - val_acc: 0.6660\n",
            "Epoch 38/100\n",
            "100/100 [==============================] - 188s 2s/step - loss: 0.6557 - acc: 0.6049 - val_loss: 0.6349 - val_acc: 0.6760\n",
            "Epoch 39/100\n",
            "100/100 [==============================] - 192s 2s/step - loss: 0.6507 - acc: 0.6076 - val_loss: 0.6347 - val_acc: 0.6480\n",
            "Epoch 40/100\n",
            "100/100 [==============================] - 195s 2s/step - loss: 0.6552 - acc: 0.5940 - val_loss: 0.6235 - val_acc: 0.6560\n",
            "Epoch 41/100\n",
            "100/100 [==============================] - 191s 2s/step - loss: 0.6548 - acc: 0.6077 - val_loss: 0.5416 - val_acc: 0.6140\n",
            "Epoch 42/100\n",
            "100/100 [==============================] - 196s 2s/step - loss: 0.6544 - acc: 0.5975 - val_loss: 0.5457 - val_acc: 0.6420\n",
            "Epoch 43/100\n",
            "100/100 [==============================] - 192s 2s/step - loss: 0.6509 - acc: 0.5841 - val_loss: 0.7278 - val_acc: 0.6870\n",
            "Epoch 44/100\n",
            "100/100 [==============================] - 191s 2s/step - loss: 0.6486 - acc: 0.6073 - val_loss: 0.6025 - val_acc: 0.6420\n",
            "Epoch 45/100\n",
            "100/100 [==============================] - 197s 2s/step - loss: 0.6426 - acc: 0.6098 - val_loss: 0.6418 - val_acc: 0.6260\n",
            "Epoch 46/100\n",
            "100/100 [==============================] - 190s 2s/step - loss: 0.6356 - acc: 0.6202 - val_loss: 0.6010 - val_acc: 0.6670\n",
            "Epoch 47/100\n",
            "100/100 [==============================] - 192s 2s/step - loss: 0.6447 - acc: 0.6183 - val_loss: 0.6544 - val_acc: 0.6390\n",
            "Epoch 48/100\n",
            "100/100 [==============================] - 198s 2s/step - loss: 0.6382 - acc: 0.6148 - val_loss: 0.4794 - val_acc: 0.6330\n",
            "Epoch 49/100\n",
            "100/100 [==============================] - 190s 2s/step - loss: 0.6436 - acc: 0.6084 - val_loss: 0.5904 - val_acc: 0.6150\n",
            "Epoch 50/100\n",
            "100/100 [==============================] - 188s 2s/step - loss: 0.6357 - acc: 0.6205 - val_loss: 0.5278 - val_acc: 0.6380\n",
            "Epoch 51/100\n",
            "100/100 [==============================] - 187s 2s/step - loss: 0.6338 - acc: 0.6095 - val_loss: 0.6226 - val_acc: 0.6710\n",
            "Epoch 52/100\n",
            "100/100 [==============================] - 193s 2s/step - loss: 0.6468 - acc: 0.6167 - val_loss: 0.5404 - val_acc: 0.6790\n",
            "Epoch 53/100\n",
            "100/100 [==============================] - 192s 2s/step - loss: 0.6307 - acc: 0.6228 - val_loss: 0.5783 - val_acc: 0.7040\n",
            "Epoch 54/100\n",
            "100/100 [==============================] - 191s 2s/step - loss: 0.6203 - acc: 0.6413 - val_loss: 0.6293 - val_acc: 0.6270\n",
            "Epoch 55/100\n",
            "100/100 [==============================] - 195s 2s/step - loss: 0.6397 - acc: 0.6250 - val_loss: 0.5783 - val_acc: 0.6240\n",
            "Epoch 56/100\n",
            "100/100 [==============================] - 191s 2s/step - loss: 0.6316 - acc: 0.6314 - val_loss: 0.6170 - val_acc: 0.6750\n",
            "Epoch 57/100\n",
            "100/100 [==============================] - 192s 2s/step - loss: 0.6242 - acc: 0.6272 - val_loss: 0.6351 - val_acc: 0.6590\n",
            "Epoch 58/100\n",
            "100/100 [==============================] - 200s 2s/step - loss: 0.6295 - acc: 0.6359 - val_loss: 0.6846 - val_acc: 0.7150\n",
            "Epoch 59/100\n",
            "100/100 [==============================] - 192s 2s/step - loss: 0.6291 - acc: 0.6295 - val_loss: 0.5579 - val_acc: 0.7220\n",
            "Epoch 60/100\n",
            "100/100 [==============================] - 190s 2s/step - loss: 0.6277 - acc: 0.6295 - val_loss: 0.5019 - val_acc: 0.7040\n",
            "Epoch 61/100\n",
            "100/100 [==============================] - 197s 2s/step - loss: 0.6182 - acc: 0.6447 - val_loss: 0.6385 - val_acc: 0.6980\n",
            "Epoch 62/100\n",
            "100/100 [==============================] - 189s 2s/step - loss: 0.6254 - acc: 0.6511 - val_loss: 0.5334 - val_acc: 0.7150\n",
            "Epoch 63/100\n",
            "100/100 [==============================] - 189s 2s/step - loss: 0.6211 - acc: 0.6480 - val_loss: 0.5337 - val_acc: 0.7370\n",
            "Epoch 64/100\n",
            "100/100 [==============================] - 196s 2s/step - loss: 0.6118 - acc: 0.6512 - val_loss: 0.8297 - val_acc: 0.5850\n",
            "Epoch 65/100\n",
            "100/100 [==============================] - 189s 2s/step - loss: 0.6282 - acc: 0.6382 - val_loss: 0.5867 - val_acc: 0.7000\n",
            "Epoch 66/100\n",
            "100/100 [==============================] - 192s 2s/step - loss: 0.6153 - acc: 0.6428 - val_loss: 0.4717 - val_acc: 0.6840\n",
            "Epoch 67/100\n",
            "100/100 [==============================] - 194s 2s/step - loss: 0.6157 - acc: 0.6503 - val_loss: 0.5284 - val_acc: 0.6910\n",
            "Epoch 68/100\n",
            "100/100 [==============================] - 189s 2s/step - loss: 0.6223 - acc: 0.6534 - val_loss: 0.4989 - val_acc: 0.6860\n",
            "Epoch 69/100\n",
            "100/100 [==============================] - 190s 2s/step - loss: 0.6171 - acc: 0.6592 - val_loss: 0.6133 - val_acc: 0.6680\n",
            "Epoch 70/100\n",
            "100/100 [==============================] - 190s 2s/step - loss: 0.6048 - acc: 0.6442 - val_loss: 0.5649 - val_acc: 0.6970\n",
            "Epoch 71/100\n",
            "100/100 [==============================] - 194s 2s/step - loss: 0.6107 - acc: 0.6477 - val_loss: 0.8772 - val_acc: 0.6400\n",
            "Epoch 72/100\n",
            "100/100 [==============================] - 194s 2s/step - loss: 0.6152 - acc: 0.6512 - val_loss: 0.5427 - val_acc: 0.6940\n",
            "Epoch 73/100\n",
            " 62/100 [=================>............] - ETA: 1:05 - loss: 0.6012 - acc: 0.6622"
          ],
          "name": "stdout"
        }
      ]
    }
  ]
}